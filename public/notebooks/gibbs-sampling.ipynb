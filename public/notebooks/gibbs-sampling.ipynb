{
 "cells": [
  {
   "cell_type": "markdown",
   "metadata": {
    "deletable": true,
    "editable": true
   },
   "source": [
    "# Gibbs Sampling"
   ]
  },
  {
   "cell_type": "code",
   "execution_count": 4,
   "metadata": {
    "collapsed": false,
    "deletable": true,
    "editable": true
   },
   "outputs": [
    {
     "data": {
      "text/plain": [
       "(6, 8)"
      ]
     },
     "execution_count": 4,
     "metadata": {},
     "output_type": "execute_result"
    }
   ],
   "source": [
    "import random\n",
    "def roll_a_die():\n",
    "    return random.choice([1,2,3,4,5,6])\n",
    "\n",
    "def direct_sample():\n",
    "    d1 = roll_a_die()\n",
    "    d2 = roll_a_die()\n",
    "    return d1, d1 + d2\n",
    "\n",
    "direct_sample()"
   ]
  },
  {
   "cell_type": "code",
   "execution_count": 156,
   "metadata": {
    "collapsed": false,
    "deletable": true,
    "editable": true
   },
   "outputs": [
    {
     "data": {
      "text/plain": [
       "(3, 6)"
      ]
     },
     "execution_count": 156,
     "metadata": {},
     "output_type": "execute_result"
    }
   ],
   "source": [
    "def random_y_given_x(x):\n",
    "    \"\"\"equally likely to be x + 1, x + 2, ... , x + 6\"\"\"\n",
    "    return x + roll_a_die()\n",
    "\n",
    "def random_x_given_y(y):\n",
    "    if y <= 7:\n",
    "        # if the total is 7 or less, the first die is equally likely to be\n",
    "        # 1, 2, ..., (total - 1)\n",
    "        return random.randrange(1, y)\n",
    "    else:\n",
    "        # if the total is 7 or more, the first die is equally likely to be\n",
    "        # (total - 6), (total - 5), ..., 6\n",
    "        return random.randrange(y - 6, 7)\n",
    "\n",
    "def gibbs_sample(num_iters=100):\n",
    "    x, y = 1, 2 # doesn't really matter\n",
    "    for _ in range(num_iters):\n",
    "        x = random_x_given_y(y)\n",
    "        y = random_y_given_x(x)\n",
    "    return x, y\n",
    "\n",
    "gibbs_sample()"
   ]
  },
  {
   "cell_type": "code",
   "execution_count": 154,
   "metadata": {
    "collapsed": false,
    "deletable": true,
    "editable": true
   },
   "outputs": [
    {
     "data": {
      "text/plain": [
       "<matplotlib.colorbar.Colorbar at 0x117de22b0>"
      ]
     },
     "execution_count": 154,
     "metadata": {},
     "output_type": "execute_result"
    },
    {
     "data": {
      "image/png": "[encoded data removed]",
      "text/plain": [
       "<matplotlib.figure.Figure at 0x117a4ee48>"
      ]
     },
     "metadata": {},
     "output_type": "display_data"
    }
   ],
   "source": [
    "%matplotlib inline\n",
    "\n",
    "import matplotlib.pyplot as plt\n",
    "\n",
    "x = []\n",
    "y = []\n",
    "\n",
    "for _ in range(10000):\n",
    "    i, j = gibbs_sample()\n",
    "    x.append(i)\n",
    "    y.append(j)\n",
    "    \n",
    "# plt.scatter(x, y)\n",
    "plt.hist2d(x, y, bins=50, cmap=plt.cm.jet)\n",
    "plt.colorbar()"
   ]
  },
  {
   "cell_type": "code",
   "execution_count": 155,
   "metadata": {
    "collapsed": false,
    "deletable": true,
    "editable": true
   },
   "outputs": [
    {
     "data": {
      "text/plain": [
       "defaultdict(<function __main__.compare_distributions.<locals>.<lambda>>,\n",
       "            {(1, 2): [256, 320],\n",
       "             (1, 3): [288, 262],\n",
       "             (1, 4): [260, 270],\n",
       "             (1, 5): [306, 289],\n",
       "             (1, 6): [277, 272],\n",
       "             (1, 7): [260, 256],\n",
       "             (2, 3): [291, 269],\n",
       "             (2, 4): [259, 273],\n",
       "             (2, 5): [293, 283],\n",
       "             (2, 6): [292, 288],\n",
       "             (2, 7): [289, 266],\n",
       "             (2, 8): [264, 301],\n",
       "             (3, 4): [260, 271],\n",
       "             (3, 5): [264, 270],\n",
       "             (3, 6): [279, 297],\n",
       "             (3, 7): [274, 258],\n",
       "             (3, 8): [292, 301],\n",
       "             (3, 9): [277, 275],\n",
       "             (4, 5): [296, 274],\n",
       "             (4, 6): [283, 264],\n",
       "             (4, 7): [258, 290],\n",
       "             (4, 8): [257, 278],\n",
       "             (4, 9): [259, 290],\n",
       "             (4, 10): [290, 294],\n",
       "             (5, 6): [269, 253],\n",
       "             (5, 7): [276, 280],\n",
       "             (5, 8): [267, 289],\n",
       "             (5, 9): [286, 257],\n",
       "             (5, 10): [289, 256],\n",
       "             (5, 11): [312, 241],\n",
       "             (6, 7): [276, 273],\n",
       "             (6, 8): [306, 286],\n",
       "             (6, 9): [262, 276],\n",
       "             (6, 10): [291, 264],\n",
       "             (6, 11): [283, 311],\n",
       "             (6, 12): [259, 303]})"
      ]
     },
     "execution_count": 155,
     "metadata": {},
     "output_type": "execute_result"
    }
   ],
   "source": [
    "from collections import defaultdict\n",
    "def compare_distributions(num_samples=10000):\n",
    "    counts = defaultdict(lambda: [0, 0])\n",
    "    for _ in range(num_samples):\n",
    "        counts[gibbs_sample()][0] += 1\n",
    "        counts[direct_sample()][1] += 1\n",
    "    return counts\n",
    "\n",
    "compare_distributions()"
   ]
  }
 ],
 "metadata": {
  "kernelspec": {
   "display_name": "Python 3",
   "language": "python",
   "name": "python3"
  },
  "language_info": {
   "codemirror_mode": {
    "name": "ipython",
    "version": 3
   },
   "file_extension": ".py",
   "mimetype": "text/x-python",
   "name": "python",
   "nbconvert_exporter": "python",
   "pygments_lexer": "ipython3",
   "version": "3.6.1"
  }
 },
 "nbformat": 4,
 "nbformat_minor": 0
}
